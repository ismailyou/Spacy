{
 "cells": [
  {
   "cell_type": "markdown",
   "metadata": {},
   "source": [
    "# What’s spaCy?"
   ]
  },
  {
   "cell_type": "markdown",
   "metadata": {},
   "source": [
    "spaCy is a free, open-source library for advanced Natural Language Processing (NLP) in Python.\n",
    "\n",
    "spaCy is designed specifically for production use and helps you build applications that process and “understand” large volumes of text. It can be used to build <b>information extraction</b> or <b>natural language understanding</b> systems, or to <b>pre-process text for deep learning</b>.\n",
    "\n",
    "url : https://spacy.io/"
   ]
  },
  {
   "cell_type": "markdown",
   "metadata": {},
   "source": [
    "### Load library"
   ]
  },
  {
   "cell_type": "code",
   "execution_count": 2,
   "metadata": {},
   "outputs": [],
   "source": [
    "import spacy"
   ]
  },
  {
   "cell_type": "markdown",
   "metadata": {},
   "source": [
    "### Load Data"
   ]
  },
  {
   "cell_type": "code",
   "execution_count": 5,
   "metadata": {},
   "outputs": [],
   "source": [
    "english_text = \"\"\"Perhaps one of the most significant advances made by Arabic mathematics began at this time with the work of al-Khwarizmi, namely the beginnings of algebra. It is important to understand just how significant this new idea was. It was a revolutionary move away from the Greek concept of mathematics which was essentially geometry. Algebra was a unifying theory which allowedrational numbers,irrational numbers, geometrical magnitudes, etc., to all be treated as \\\"algebraic objects\\\". It gave mathematics a whole new development path so much broader in concept to that which had existed before, and provided a vehicle for future development of the subject. Another important aspect of the introduction of algebraic ideas was that it allowed mathematics to be applied to itselfin a way which had not happened before.\"\"\""
   ]
  },
  {
   "cell_type": "code",
   "execution_count": 6,
   "metadata": {},
   "outputs": [],
   "source": [
    "arabic_text =\"\"\"ربما كانت أحد أهم التطورات التي قامت بها الرياضيات العربية التي بدأت في هذا الوقت بعمل الخوارزمي وهي بدايات الجبر, ومن المهم فهم كيف كانت هذه الفكرة الجديدة مهمة, فقد كانت خطوة نورية بعيدا عن المفهوم اليوناني للرياضيات التي هي في جوهرها هندسة, الجبر کان نظرية موحدة تتيح الأعداد الكسرية والأعداد اللا كسرية, والمقادير الهندسية وغيرها, أن تتعامل على أنها أجسام جبرية, وأعطت الرياضيات ككل مسارا جديدا للتطور بمفهوم أوسع بكثير من الذي كان موجودا من قبل, وقم وسيلة للتنمية في هذا الموضوع مستقبلا. وجانب آخر مهم لإدخال أفكار الجبر وهو أنه سمح بتطبيق الرياضيات على نفسها بطريقة لم تحدث من قبل\"\"\""
   ]
  },
  {
   "cell_type": "markdown",
   "metadata": {},
   "source": [
    "## Tokenization, Pos Tagging and Dependency Parsing"
   ]
  },
  {
   "cell_type": "code",
   "execution_count": 3,
   "metadata": {},
   "outputs": [],
   "source": [
    "nlp = spacy.load(\"en_core_web_sm\")"
   ]
  },
  {
   "cell_type": "code",
   "execution_count": 34,
   "metadata": {},
   "outputs": [
    {
     "ename": "ValueError",
     "evalue": "too many values to unpack (expected 3)",
     "output_type": "error",
     "traceback": [
      "\u001b[1;31m---------------------------------------------------------------------------\u001b[0m",
      "\u001b[1;31mValueError\u001b[0m                                Traceback (most recent call last)",
      "\u001b[1;32m<ipython-input-34-f9120c88ea6a>\u001b[0m in \u001b[0;36m<module>\u001b[1;34m\u001b[0m\n\u001b[0;32m      2\u001b[0m \u001b[0mdoc_en\u001b[0m \u001b[1;33m=\u001b[0m \u001b[0mnlp\u001b[0m\u001b[1;33m(\u001b[0m\u001b[0menglish_text\u001b[0m\u001b[1;33m)\u001b[0m\u001b[1;33m\u001b[0m\u001b[1;33m\u001b[0m\u001b[0m\n\u001b[0;32m      3\u001b[0m \u001b[1;33m\u001b[0m\u001b[0m\n\u001b[1;32m----> 4\u001b[1;33m \u001b[1;33m(\u001b[0m\u001b[0mar_tokens\u001b[0m\u001b[1;33m,\u001b[0m \u001b[0mar_pos\u001b[0m\u001b[1;33m,\u001b[0m \u001b[0mar_dep\u001b[0m\u001b[1;33m)\u001b[0m \u001b[1;33m=\u001b[0m \u001b[1;33m[\u001b[0m\u001b[1;33m(\u001b[0m\u001b[0mtoken\u001b[0m\u001b[1;33m.\u001b[0m\u001b[0mtext\u001b[0m\u001b[1;33m,\u001b[0m \u001b[0mtoken\u001b[0m\u001b[1;33m.\u001b[0m\u001b[0mpos_\u001b[0m\u001b[1;33m,\u001b[0m \u001b[0mtoken\u001b[0m\u001b[1;33m.\u001b[0m\u001b[0mdep_\u001b[0m\u001b[1;33m)\u001b[0m \u001b[1;32mfor\u001b[0m \u001b[0mtoken\u001b[0m \u001b[1;32min\u001b[0m \u001b[0mdoc_ar\u001b[0m\u001b[1;33m]\u001b[0m\u001b[1;33m\u001b[0m\u001b[1;33m\u001b[0m\u001b[0m\n\u001b[0m",
      "\u001b[1;31mValueError\u001b[0m: too many values to unpack (expected 3)"
     ]
    }
   ],
   "source": [
    "doc_ar = nlp(arabic_text)\n",
    "doc_en = nlp(english_text)\n",
    "\n",
    "(ar_tokens, ar_pos, ar_dep) = [(token.text, token.pos_, token.dep_) for token in doc_ar]"
   ]
  },
  {
   "cell_type": "code",
   "execution_count": 24,
   "metadata": {},
   "outputs": [
    {
     "name": "stdout",
     "output_type": "stream",
     "text": [
      "ربما PROPN nsubj\n",
      "كانت PROPN compound\n",
      "أحد PROPN compound\n",
      "أهم PROPN compound\n",
      "التطورات VERB nmod\n",
      "التي PROPN amod\n",
      "قامت VERB amod\n",
      "بها NOUN npadvmod\n",
      "الرياضيات ADJ amod\n",
      "العربية NOUN compound\n",
      "التي NOUN nsubj\n",
      "بدأت VERB ROOT\n",
      "في ADP prep\n",
      "هذا ADJ compound\n",
      "الوقت PROPN compound\n",
      "بعمل PROPN compound\n",
      "الخوارزمي PROPN appos\n",
      "وهي PROPN compound\n",
      "بدايات NOUN compound\n",
      "الجبر NOUN pobj\n",
      ", PUNCT punct\n",
      "ومن PROPN compound\n",
      "المهم NOUN compound\n",
      "فهم PROPN compound\n",
      "كيف PROPN compound\n",
      "كانت PROPN compound\n",
      "هذه PROPN compound\n",
      "الفكرة PROPN compound\n",
      "الجديدة PROPN compound\n",
      "مهمة PROPN conj\n",
      ", PUNCT punct\n",
      "فقد PROPN compound\n",
      "كانت PROPN compound\n",
      "خطوة PROPN conj\n",
      "نورية VERB compound\n",
      "بعيدا NOUN ccomp\n",
      "عن PROPN compound\n",
      "المفهوم PROPN compound\n",
      "اليوناني PROPN appos\n",
      "للرياضيات PROPN compound\n",
      "التي PROPN npadvmod\n",
      "هي PROPN compound\n",
      "في INTJ compound\n",
      "جوهرها PROPN compound\n",
      "هندسة PROPN nsubj\n",
      ", PUNCT punct\n",
      "الجبر PROPN compound\n",
      "کان PROPN compound\n",
      "نظرية PROPN compound\n",
      "موحدة PROPN compound\n",
      "تتيح PROPN compound\n",
      "الأعداد PROPN compound\n",
      "الكسرية NOUN compound\n",
      "والأعداد NOUN appos\n",
      "اللا NOUN nsubj\n",
      "كسرية VERB ccomp\n",
      ", PUNCT punct\n",
      "والمقادير PROPN compound\n",
      "الهندسية PROPN compound\n",
      "وغيرها PROPN dobj\n",
      ", PUNCT punct\n",
      "أن PRON compound\n",
      "تتعامل VERB ccomp\n",
      "على PROPN compound\n",
      "أنها PROPN compound\n",
      "أجسام PROPN compound\n",
      "جبرية NOUN dobj\n",
      ", PUNCT punct\n",
      "وأعطت PROPN compound\n",
      "الرياضيات ADJ amod\n",
      "ككل VERB compound\n",
      "مسارا NOUN compound\n",
      "جديدا NOUN nsubj\n",
      "للتطور VERB ccomp\n",
      "بمفهوم NOUN dobj\n",
      "أوسع NOUN compound\n",
      "بكثير PROPN nmod\n",
      "من PROPN compound\n",
      "الذي PROPN compound\n",
      "كان PROPN compound\n",
      "موجودا PROPN compound\n",
      "من NOUN compound\n",
      "قبل NOUN dobj\n",
      ", PUNCT punct\n",
      "وقم PRON nsubj\n",
      "وسيلة VERB ROOT\n",
      "للتنمية ADJ dobj\n",
      "في ADP advmod\n",
      "هذا PROPN compound\n",
      "الموضوع PROPN compound\n",
      "مستقبلا PROPN dobj\n",
      ". PUNCT punct\n",
      "وجانب PROPN nsubj\n",
      "آخر VERB ROOT\n",
      "مهم NOUN compound\n",
      "لإدخال NOUN compound\n",
      "أفكار NOUN dobj\n",
      "الجبر VERB advcl\n",
      "وهو PROPN compound\n",
      "أنه PROPN compound\n",
      "سمح PROPN npadvmod\n",
      "بتطبيق PROPN compound\n",
      "الرياضيات PROPN ROOT\n",
      "على PROPN compound\n",
      "نفسها PROPN compound\n",
      "بطريقة PROPN dobj\n",
      "لم PROPN compound\n",
      "تحدث PROPN ccomp\n",
      "من DET prep\n",
      "قبل NOUN npadvmod\n"
     ]
    }
   ],
   "source": [
    "for token in doc:\n",
    "    print(token.text, token.pos_, token.dep_)"
   ]
  },
  {
   "cell_type": "code",
   "execution_count": null,
   "metadata": {},
   "outputs": [],
   "source": []
  },
  {
   "cell_type": "code",
   "execution_count": null,
   "metadata": {},
   "outputs": [],
   "source": []
  }
 ],
 "metadata": {
  "kernelspec": {
   "display_name": "Python 3",
   "language": "python",
   "name": "python3"
  },
  "language_info": {
   "codemirror_mode": {
    "name": "ipython",
    "version": 3
   },
   "file_extension": ".py",
   "mimetype": "text/x-python",
   "name": "python",
   "nbconvert_exporter": "python",
   "pygments_lexer": "ipython3",
   "version": "3.8.5"
  }
 },
 "nbformat": 4,
 "nbformat_minor": 4
}
